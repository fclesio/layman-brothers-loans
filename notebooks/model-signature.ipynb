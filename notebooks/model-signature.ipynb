{
 "cells": [
  {
   "cell_type": "code",
   "execution_count": 47,
   "id": "2a8df056",
   "metadata": {},
   "outputs": [
    {
     "name": "stdout",
     "output_type": "stream",
     "text": [
      "0.16\n"
     ]
    },
    {
     "name": "stderr",
     "output_type": "stream",
     "text": [
      "[Parallel(n_jobs=1)]: Using backend SequentialBackend with 1 concurrent workers.\n",
      "[Parallel(n_jobs=1)]: Done 100 out of 100 | elapsed:    0.0s finished\n"
     ]
    }
   ],
   "source": [
    "import sys\n",
    "import joblib\n",
    "from typing import Union\n",
    "from sklearn.ensemble import RandomForestClassifier\n",
    "\n",
    "sys.path.append(\"./\")\n",
    "model = joblib.load(\"/app/models/model.joblib\")\n",
    "record = [[20000, 2, 1, 24, 3913, 3102, 0, 689]]\n",
    "\n",
    "Model = Union[RandomForestClassifier]\n",
    "    \n",
    "def get_default_probability( model: Model, record: list) -> float:\n",
    "    \"\"\"\n",
    "    According with some features will return \n",
    "    the probability of a default.\n",
    "    \n",
    "    Columns in the prediction array:\n",
    "        - LIMIT_BAL    int64\n",
    "        - EDUCATION    int64\n",
    "        - MARRIAGE     int64\n",
    "        - AGE          int64\n",
    "        - BILL_AMT1    int64\n",
    "        - BILL_AMT2    int64\n",
    "        - PAY_AMT1     int64\n",
    "        - PAY_AMT2     int64\n",
    "    \n",
    "    Parameters\n",
    "    ----------\n",
    "        record : array\n",
    "            Values relative with the loan according\n",
    "            to the columns in the training.\n",
    "\n",
    "    Returns\n",
    "    -------\n",
    "        default_proba: float\n",
    "            Percentage of a probability of a default\n",
    "            according to the values passed.\n",
    "    \"\"\"\n",
    "    \n",
    "    prediction = model.predict_proba(record)\n",
    "    default_proba = prediction[0][0]\n",
    "    return default_proba\n",
    "\n",
    "\n",
    "result = get_default_probability(model=model, record=record)\n",
    "\n",
    "print(result)"
   ]
  },
  {
   "cell_type": "code",
   "execution_count": null,
   "id": "e2ecbad3",
   "metadata": {},
   "outputs": [],
   "source": []
  }
 ],
 "metadata": {
  "kernelspec": {
   "display_name": "Python 3 (ipykernel)",
   "language": "python",
   "name": "python3"
  },
  "language_info": {
   "codemirror_mode": {
    "name": "ipython",
    "version": 3
   },
   "file_extension": ".py",
   "mimetype": "text/x-python",
   "name": "python",
   "nbconvert_exporter": "python",
   "pygments_lexer": "ipython3",
   "version": "3.8.12"
  }
 },
 "nbformat": 4,
 "nbformat_minor": 5
}
